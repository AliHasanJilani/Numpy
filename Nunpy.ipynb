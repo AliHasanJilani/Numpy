{
 "cells": [
  {
   "cell_type": "code",
   "execution_count": 1,
   "id": "ef20b11a-602a-470c-a9c3-2abbbc76ffe8",
   "metadata": {},
   "outputs": [],
   "source": [
    "# Numpymis open source library used for handle scietific calculation"
   ]
  },
  {
   "cell_type": "code",
   "execution_count": 2,
   "id": "490f0571-1507-4dfe-a350-1b5cce6c15b6",
   "metadata": {},
   "outputs": [],
   "source": [
    "# Why Numpy is better than list\n",
    "\n",
    "# 1. Numpy is Homogeneous data type(same data type), list is hetrogrnoues data type\n",
    "# 2. Numpy memory consumption is less, list has more consumption\n",
    "# 3. time consumption less, list takes more time consumption "
   ]
  },
  {
   "cell_type": "code",
   "execution_count": 3,
   "id": "81d24409-de0c-41c6-bb21-6d014c198b43",
   "metadata": {},
   "outputs": [],
   "source": [
    "import numpy as np"
   ]
  },
  {
   "cell_type": "code",
   "execution_count": 4,
   "id": "da97a467-6d24-4e69-8b73-ea3a2519b97e",
   "metadata": {},
   "outputs": [
    {
     "data": {
      "text/plain": [
       "array([ 1, 24, 67, 90])"
      ]
     },
     "execution_count": 4,
     "metadata": {},
     "output_type": "execute_result"
    }
   ],
   "source": [
    "a = [1,24,67,90] # list current\n",
    "b = np.array(a)\n",
    "b"
   ]
  },
  {
   "cell_type": "code",
   "execution_count": 5,
   "id": "a5e4345b-ef08-4c7c-ac7f-c921cb51265a",
   "metadata": {},
   "outputs": [
    {
     "name": "stdout",
     "output_type": "stream",
     "text": [
      "<class 'list'>\n",
      "<class 'numpy.ndarray'>\n"
     ]
    }
   ],
   "source": [
    "print(type(a))\n",
    "print(type(b))"
   ]
  },
  {
   "cell_type": "code",
   "execution_count": 6,
   "id": "dc8c94bc-e105-4e23-a39f-9d8225dbcc83",
   "metadata": {},
   "outputs": [
    {
     "name": "stdout",
     "output_type": "stream",
     "text": [
      "total shape : (4,)\n",
      "total size : 4\n",
      "total direction : 1\n"
     ]
    }
   ],
   "source": [
    "print(\"total shape :\", b.shape) ###shape = n(rows),n(columns)\n",
    "print(\"total size :\", b.size) ###size = n(rows)*n(columns)\n",
    "print(\"total direction :\", b.ndim) ###ndim = no. of dimension"
   ]
  },
  {
   "cell_type": "code",
   "execution_count": 7,
   "id": "62ed5f74-662c-4ebc-bf13-4c057c1150de",
   "metadata": {},
   "outputs": [
    {
     "data": {
      "text/plain": [
       "([1, 2, 3], [4, 5, 6], [7, 8, 9])"
      ]
     },
     "execution_count": 7,
     "metadata": {},
     "output_type": "execute_result"
    }
   ],
   "source": [
    "a = [1,2,3],[4,5,6],[7,8,9]\n",
    "b = np.array(a)\n",
    "a"
   ]
  },
  {
   "cell_type": "code",
   "execution_count": 8,
   "id": "7cc6f343-836d-4d5d-bc36-9a974b3ae40e",
   "metadata": {},
   "outputs": [
    {
     "name": "stdout",
     "output_type": "stream",
     "text": [
      "total shape : (3, 3)\n",
      "total size : 9\n",
      "total direction : 2\n"
     ]
    }
   ],
   "source": [
    "print(\"total shape :\", b.shape) ###shape = n(rows),n(columns)\n",
    "print(\"total size :\", b.size) ###size = n(rows)*n(columns)\n",
    "print(\"total direction :\", b.ndim) ###ndim = no. of dimension"
   ]
  },
  {
   "cell_type": "code",
   "execution_count": 9,
   "id": "1950d2ea-48cd-447a-b7b3-aa098aaec3e8",
   "metadata": {},
   "outputs": [],
   "source": [
    "# # user deffine Array\n",
    "# a = []\n",
    "# size = int(input(\"Enter a number:\"))\n",
    "# for i in range(size):\n",
    "#     vall=int(input(\"Enter a element:\"))\n",
    "#     a.append(vall)\n",
    "# b.np.array(a)\n",
    "# b"
   ]
  },
  {
   "cell_type": "code",
   "execution_count": 10,
   "id": "d5d7e2a7-5782-42f7-a50d-931b05d1cf30",
   "metadata": {},
   "outputs": [],
   "source": [
    "# Predefined function in numpy\n",
    "# 1. zeros : this is predefined function of numpy that will return all the value 0 in\n",
    "# either one dimensional or multidimensional"
   ]
  },
  {
   "cell_type": "code",
   "execution_count": 11,
   "id": "77a2f969-f538-4f38-9c52-8daf03582181",
   "metadata": {},
   "outputs": [
    {
     "data": {
      "text/plain": [
       "array([0., 0., 0., 0.])"
      ]
     },
     "execution_count": 11,
     "metadata": {},
     "output_type": "execute_result"
    }
   ],
   "source": [
    "a = np.zeros(4)\n",
    "a"
   ]
  },
  {
   "cell_type": "code",
   "execution_count": 12,
   "id": "c6eb7029-0cc8-4c5c-b9fa-2902cfa09f5f",
   "metadata": {},
   "outputs": [
    {
     "data": {
      "text/plain": [
       "array([[0., 0., 0., 0.],\n",
       "       [0., 0., 0., 0.],\n",
       "       [0., 0., 0., 0.]])"
      ]
     },
     "execution_count": 12,
     "metadata": {},
     "output_type": "execute_result"
    }
   ],
   "source": [
    "a = np.zeros((3,4))\n",
    "a"
   ]
  },
  {
   "cell_type": "code",
   "execution_count": 13,
   "id": "65a46af5-383e-427e-b461-a3550c513670",
   "metadata": {},
   "outputs": [],
   "source": [
    "# 2. ones : This is predefined function of numpy that will return all the value 1 in\n",
    "# either one dimensional or multidimensional."
   ]
  },
  {
   "cell_type": "code",
   "execution_count": 14,
   "id": "d993d225-2819-4f16-a059-7ea86177b7dd",
   "metadata": {},
   "outputs": [
    {
     "data": {
      "text/plain": [
       "array([1., 1., 1., 1.])"
      ]
     },
     "execution_count": 14,
     "metadata": {},
     "output_type": "execute_result"
    }
   ],
   "source": [
    "a=np.ones(4)\n",
    "a"
   ]
  },
  {
   "cell_type": "code",
   "execution_count": 15,
   "id": "3a6bdb9e-af71-464a-9956-d98ab32dd210",
   "metadata": {},
   "outputs": [
    {
     "data": {
      "text/plain": [
       "array([[1., 1., 1., 1.],\n",
       "       [1., 1., 1., 1.],\n",
       "       [1., 1., 1., 1.]])"
      ]
     },
     "execution_count": 15,
     "metadata": {},
     "output_type": "execute_result"
    }
   ],
   "source": [
    "a=np.ones((3,4))\n",
    "a"
   ]
  },
  {
   "cell_type": "code",
   "execution_count": 16,
   "id": "5ad74ec9-453b-4960-bf55-3d8399f1a9ab",
   "metadata": {},
   "outputs": [],
   "source": [
    "# Images : === Pixels(0-255) --- black and white = height and width\n",
    "# Colourful Image : === height,width,colr_channel(red,yellow,blue)\n",
    "# Machine Learning : === Actual Answer, Prediction --> optimization technique"
   ]
  },
  {
   "cell_type": "code",
   "execution_count": 17,
   "id": "20a6c0bc-8376-489e-b477-13f6972584dd",
   "metadata": {},
   "outputs": [],
   "source": [
    "# 3. eye() : It will create an array in which digonal position elements are 1 and rest all are 0"
   ]
  },
  {
   "cell_type": "code",
   "execution_count": 18,
   "id": "76fba8a2-4b3c-489e-bb6a-18a2e895d67b",
   "metadata": {},
   "outputs": [
    {
     "data": {
      "text/plain": [
       "array([[1., 0., 0., 0.],\n",
       "       [0., 1., 0., 0.],\n",
       "       [0., 0., 1., 0.],\n",
       "       [0., 0., 0., 1.]])"
      ]
     },
     "execution_count": 18,
     "metadata": {},
     "output_type": "execute_result"
    }
   ],
   "source": [
    "a=np.eye(4)\n",
    "a"
   ]
  },
  {
   "cell_type": "code",
   "execution_count": 19,
   "id": "c77d5b76-5f87-4362-bf72-605e8b015800",
   "metadata": {},
   "outputs": [
    {
     "data": {
      "text/plain": [
       "array([[1., 0., 0., 0.],\n",
       "       [0., 1., 0., 0.],\n",
       "       [0., 0., 1., 0.]])"
      ]
     },
     "execution_count": 19,
     "metadata": {},
     "output_type": "execute_result"
    }
   ],
   "source": [
    "a=np.eye(3,4)\n",
    "a"
   ]
  },
  {
   "cell_type": "code",
   "execution_count": 20,
   "id": "5e3b3a89-fc19-4775-b1c3-df011ed941f3",
   "metadata": {},
   "outputs": [],
   "source": [
    "# diag = it will create an array in which we can set digonal positional elements\n"
   ]
  },
  {
   "cell_type": "code",
   "execution_count": 21,
   "id": "54505897-0566-4539-b9ab-8cb10d375671",
   "metadata": {},
   "outputs": [
    {
     "data": {
      "text/plain": [
       "array([ 1, 23,  4, 56, 54, 78])"
      ]
     },
     "execution_count": 21,
     "metadata": {},
     "output_type": "execute_result"
    }
   ],
   "source": [
    "a=np.array([1,23,4,56,54,78])\n",
    "a"
   ]
  },
  {
   "cell_type": "code",
   "execution_count": 22,
   "id": "cc64ea13-d34d-4e45-8e7d-93c42fb1910c",
   "metadata": {},
   "outputs": [
    {
     "data": {
      "text/plain": [
       "array([[ 1,  0,  0,  0,  0,  0],\n",
       "       [ 0, 23,  0,  0,  0,  0],\n",
       "       [ 0,  0,  4,  0,  0,  0],\n",
       "       [ 0,  0,  0, 56,  0,  0],\n",
       "       [ 0,  0,  0,  0, 54,  0],\n",
       "       [ 0,  0,  0,  0,  0, 78]])"
      ]
     },
     "execution_count": 22,
     "metadata": {},
     "output_type": "execute_result"
    }
   ],
   "source": [
    "b=np.diag(a)\n",
    "b"
   ]
  },
  {
   "cell_type": "code",
   "execution_count": 23,
   "id": "e070f747-3305-481c-8c86-4cb79e14d0e3",
   "metadata": {},
   "outputs": [
    {
     "data": {
      "text/plain": [
       "array([7, 5, 1])"
      ]
     },
     "execution_count": 23,
     "metadata": {},
     "output_type": "execute_result"
    }
   ],
   "source": [
    "# random module :genrate random no. \n",
    "\n",
    "# Randint() ---> randint(min_range,max_range,total_number)\n",
    "# genrate random no. everytime \n",
    "\n",
    "a=np.random.randint(1,10,3)\n",
    "a"
   ]
  },
  {
   "cell_type": "code",
   "execution_count": 24,
   "id": "3fcb8cee-0c03-4b5e-a188-98a791a9d156",
   "metadata": {},
   "outputs": [],
   "source": [
    "# Rand ---> it will genrate random number in range of 0 - 1"
   ]
  },
  {
   "cell_type": "code",
   "execution_count": 25,
   "id": "074f3696-ec20-4abf-8869-97c9d4ad93f7",
   "metadata": {},
   "outputs": [
    {
     "data": {
      "text/plain": [
       "array([0.17849702, 0.54238004, 0.22666849, 0.45904239])"
      ]
     },
     "execution_count": 25,
     "metadata": {},
     "output_type": "execute_result"
    }
   ],
   "source": [
    "a=np.random.rand(4)\n",
    "a"
   ]
  },
  {
   "cell_type": "code",
   "execution_count": 26,
   "id": "cf94dbcc-58f0-4ae1-afc9-15b60037a00d",
   "metadata": {},
   "outputs": [
    {
     "data": {
      "text/plain": [
       "array([[0.90333789, 0.57978943, 0.29785457],\n",
       "       [0.59441874, 0.49901644, 0.4393472 ]])"
      ]
     },
     "execution_count": 26,
     "metadata": {},
     "output_type": "execute_result"
    }
   ],
   "source": [
    "a=np.random.rand(2,3)\n",
    "a"
   ]
  },
  {
   "cell_type": "code",
   "execution_count": 27,
   "id": "ac8804ea-028a-47a1-b5be-0a78c413da8b",
   "metadata": {},
   "outputs": [
    {
     "data": {
      "text/plain": [
       "array([4, 1, 6])"
      ]
     },
     "execution_count": 27,
     "metadata": {},
     "output_type": "execute_result"
    }
   ],
   "source": [
    "# seed() : it wil fix our random genrated one\n",
    "np.random.seed(45)\n",
    "a=np.random.randint(1,10,3)\n",
    "a"
   ]
  },
  {
   "cell_type": "code",
   "execution_count": 28,
   "id": "b58c18f3-9ae3-44f8-9136-23dfe0f5e29b",
   "metadata": {},
   "outputs": [],
   "source": [
    "# View = Modification in original data\n",
    "# Copy = Changes in duplicate entries"
   ]
  },
  {
   "cell_type": "code",
   "execution_count": 29,
   "id": "854fbddb-a2eb-4be5-8756-272cf6ce2855",
   "metadata": {},
   "outputs": [
    {
     "data": {
      "text/plain": [
       "array([20, 30, 40, 50, 60, 70, 80, 90])"
      ]
     },
     "execution_count": 29,
     "metadata": {},
     "output_type": "execute_result"
    }
   ],
   "source": [
    "a=np.array([20,30,40,50,60,70,80,90])\n",
    "a"
   ]
  },
  {
   "cell_type": "code",
   "execution_count": 30,
   "id": "cfc80f7e-13cb-48c5-a9f1-3d4594515dc6",
   "metadata": {},
   "outputs": [
    {
     "data": {
      "text/plain": [
       "array([20, 30, 40,  0,  0,  0, 80, 90])"
      ]
     },
     "execution_count": 30,
     "metadata": {},
     "output_type": "execute_result"
    }
   ],
   "source": [
    "# view\n",
    "b=a[3:6]\n",
    "b[:]=0\n",
    "b\n",
    "a"
   ]
  },
  {
   "cell_type": "code",
   "execution_count": 31,
   "id": "7ec06140-b72a-4d5b-9542-c484053daa72",
   "metadata": {},
   "outputs": [
    {
     "data": {
      "text/plain": [
       "array([20, 30, 40, 50, 60, 70, 80, 90])"
      ]
     },
     "execution_count": 31,
     "metadata": {},
     "output_type": "execute_result"
    }
   ],
   "source": [
    "# copy\n",
    "a=np.array([20,30,40,50,60,70,80,90])\n",
    "a"
   ]
  },
  {
   "cell_type": "code",
   "execution_count": 32,
   "id": "e775e6b8-78d0-4bb7-a417-e4b2d0dacb23",
   "metadata": {},
   "outputs": [],
   "source": [
    "# Conditional Statement in Numpy"
   ]
  },
  {
   "cell_type": "code",
   "execution_count": 33,
   "id": "792cd129-2c32-4c31-b989-c070e67fe56f",
   "metadata": {},
   "outputs": [
    {
     "data": {
      "text/plain": [
       "array([ 1,  2,  3,  4,  5,  6,  7,  8,  9, 10, 11, 12, 13, 14, 15])"
      ]
     },
     "execution_count": 33,
     "metadata": {},
     "output_type": "execute_result"
    }
   ],
   "source": [
    "a=np.arange(1,16,1)\n",
    "a"
   ]
  },
  {
   "cell_type": "code",
   "execution_count": 34,
   "id": "283e5675-e5d8-4c37-aac5-e5cee9701fec",
   "metadata": {},
   "outputs": [
    {
     "data": {
      "text/plain": [
       "array([False, False, False, False, False, False, False, False, False,\n",
       "       False,  True,  True,  True,  True,  True])"
      ]
     },
     "execution_count": 34,
     "metadata": {},
     "output_type": "execute_result"
    }
   ],
   "source": [
    "a>10"
   ]
  },
  {
   "cell_type": "code",
   "execution_count": 35,
   "id": "c8ded125-0251-4c4a-873f-ba03251d5205",
   "metadata": {},
   "outputs": [
    {
     "data": {
      "text/plain": [
       "array([11, 12, 13, 14, 15])"
      ]
     },
     "execution_count": 35,
     "metadata": {},
     "output_type": "execute_result"
    }
   ],
   "source": [
    "b=a>10\n",
    "a[b]"
   ]
  },
  {
   "cell_type": "code",
   "execution_count": 36,
   "id": "3a4606e5-a107-47dd-926e-52df981c5832",
   "metadata": {},
   "outputs": [
    {
     "data": {
      "text/plain": [
       "array([ 2,  4,  6,  8, 10, 12, 14])"
      ]
     },
     "execution_count": 36,
     "metadata": {},
     "output_type": "execute_result"
    }
   ],
   "source": [
    "a[a%2==0]"
   ]
  },
  {
   "cell_type": "code",
   "execution_count": 37,
   "id": "0244632d-0c35-4ca9-9d50-529c0d0bd903",
   "metadata": {},
   "outputs": [
    {
     "data": {
      "text/plain": [
       "array([[1, 2],\n",
       "       [3, 4]])"
      ]
     },
     "execution_count": 37,
     "metadata": {},
     "output_type": "execute_result"
    }
   ],
   "source": [
    "# Reshaping an array\n",
    "\n",
    "a=np.array([1,2,3,4]).reshape(2,2)\n",
    "a"
   ]
  },
  {
   "cell_type": "code",
   "execution_count": 38,
   "id": "a802d312-9e36-491d-9e8f-030433fa2c82",
   "metadata": {},
   "outputs": [
    {
     "data": {
      "text/plain": [
       "array([[5, 6],\n",
       "       [7, 8]])"
      ]
     },
     "execution_count": 38,
     "metadata": {},
     "output_type": "execute_result"
    }
   ],
   "source": [
    "b=np.array([5,6,7,8]).reshape(2,2)\n",
    "b"
   ]
  },
  {
   "cell_type": "code",
   "execution_count": 39,
   "id": "73cb7a35-99b6-4639-8d1d-c2a34e76f43a",
   "metadata": {},
   "outputs": [
    {
     "data": {
      "text/plain": [
       "array([[ 6,  8],\n",
       "       [10, 12]])"
      ]
     },
     "execution_count": 39,
     "metadata": {},
     "output_type": "execute_result"
    }
   ],
   "source": [
    "a+b"
   ]
  },
  {
   "cell_type": "code",
   "execution_count": 40,
   "id": "77c46755-4b51-419d-9980-431adbdbc457",
   "metadata": {},
   "outputs": [
    {
     "data": {
      "text/plain": [
       "array([[-4, -4],\n",
       "       [-4, -4]])"
      ]
     },
     "execution_count": 40,
     "metadata": {},
     "output_type": "execute_result"
    }
   ],
   "source": [
    "a-b"
   ]
  },
  {
   "cell_type": "code",
   "execution_count": 41,
   "id": "1561ecc0-7096-4c54-bc96-70a78f47285c",
   "metadata": {},
   "outputs": [
    {
     "data": {
      "text/plain": [
       "array([[19, 22],\n",
       "       [43, 50]])"
      ]
     },
     "execution_count": 41,
     "metadata": {},
     "output_type": "execute_result"
    }
   ],
   "source": [
    "a.dot(b)"
   ]
  },
  {
   "cell_type": "code",
   "execution_count": 42,
   "id": "be5cbe0c-cacd-4eb0-b714-f91c03e3f184",
   "metadata": {},
   "outputs": [
    {
     "data": {
      "text/plain": [
       "array([36,  5, 16,  2, 15,  9, 24, 47,  9, 13, 35, 25])"
      ]
     },
     "execution_count": 42,
     "metadata": {},
     "output_type": "execute_result"
    }
   ],
   "source": [
    "a=np.random.randint(1,50,12)\n",
    "a"
   ]
  },
  {
   "cell_type": "code",
   "execution_count": 43,
   "id": "0f2f89e0-9402-4002-8b57-46afbb71ce7e",
   "metadata": {},
   "outputs": [
    {
     "data": {
      "text/plain": [
       "array([[36,  5, 16,  2, 15,  9],\n",
       "       [24, 47,  9, 13, 35, 25]])"
      ]
     },
     "execution_count": 43,
     "metadata": {},
     "output_type": "execute_result"
    }
   ],
   "source": [
    "a.reshape(2,6)"
   ]
  },
  {
   "cell_type": "code",
   "execution_count": 44,
   "id": "5f5e1406-d815-48c2-acf5-e88a44a0e258",
   "metadata": {},
   "outputs": [
    {
     "data": {
      "text/plain": [
       "array([[36,  5, 16,  2],\n",
       "       [15,  9, 24, 47],\n",
       "       [ 9, 13, 35, 25]])"
      ]
     },
     "execution_count": 44,
     "metadata": {},
     "output_type": "execute_result"
    }
   ],
   "source": [
    "a.reshape(3,4)"
   ]
  },
  {
   "cell_type": "code",
   "execution_count": 45,
   "id": "b94f0966-d9c2-4125-b5b1-72e5167f5fec",
   "metadata": {},
   "outputs": [
    {
     "data": {
      "text/plain": [
       "array([[36,  5, 16],\n",
       "       [ 2, 15,  9],\n",
       "       [24, 47,  9],\n",
       "       [13, 35, 25]])"
      ]
     },
     "execution_count": 45,
     "metadata": {},
     "output_type": "execute_result"
    }
   ],
   "source": [
    "a.reshape(4,3)"
   ]
  },
  {
   "cell_type": "code",
   "execution_count": 46,
   "id": "265d5415-fc06-4a0a-8896-a941951ebaa0",
   "metadata": {},
   "outputs": [
    {
     "data": {
      "text/plain": [
       "array([[36,  5],\n",
       "       [16,  2],\n",
       "       [15,  9],\n",
       "       [24, 47],\n",
       "       [ 9, 13],\n",
       "       [35, 25]])"
      ]
     },
     "execution_count": 46,
     "metadata": {},
     "output_type": "execute_result"
    }
   ],
   "source": [
    "a.reshape(6,2)"
   ]
  },
  {
   "cell_type": "code",
   "execution_count": 47,
   "id": "9575a675-f4ff-4aba-8558-b3a246cb0f3d",
   "metadata": {},
   "outputs": [
    {
     "data": {
      "text/plain": [
       "array([[1, 2, 3],\n",
       "       [4, 5, 6],\n",
       "       [7, 8, 9]])"
      ]
     },
     "execution_count": 47,
     "metadata": {},
     "output_type": "execute_result"
    }
   ],
   "source": [
    "a=np.arange(1,10).reshape(3,3)\n",
    "a"
   ]
  },
  {
   "cell_type": "code",
   "execution_count": 48,
   "id": "63257b66-438d-4bf7-b432-39b0032e3759",
   "metadata": {},
   "outputs": [
    {
     "data": {
      "text/plain": [
       "45"
      ]
     },
     "execution_count": 48,
     "metadata": {},
     "output_type": "execute_result"
    }
   ],
   "source": [
    "np.sum(a)"
   ]
  },
  {
   "cell_type": "code",
   "execution_count": 49,
   "id": "04e5833f-bcfe-42a7-8a06-eb530ae0732f",
   "metadata": {},
   "outputs": [
    {
     "data": {
      "text/plain": [
       "array([12, 15, 18])"
      ]
     },
     "execution_count": 49,
     "metadata": {},
     "output_type": "execute_result"
    }
   ],
   "source": [
    "np.sum(a , axis=0) #axis=0 column wise"
   ]
  },
  {
   "cell_type": "code",
   "execution_count": 50,
   "id": "59615920-9cb8-4d4a-9fc2-026e6c199915",
   "metadata": {},
   "outputs": [
    {
     "data": {
      "text/plain": [
       "array([ 6, 15, 24])"
      ]
     },
     "execution_count": 50,
     "metadata": {},
     "output_type": "execute_result"
    }
   ],
   "source": [
    "np.sum(a , axis=1 ) #axis-1 row wise"
   ]
  },
  {
   "cell_type": "code",
   "execution_count": 51,
   "id": "b146fcf6-1a66-4896-804b-295dd4235522",
   "metadata": {},
   "outputs": [],
   "source": [
    "# unique ====> it will create an array in which we have unique values\n",
    "# return 3 array\n",
    "# arr= unique array\n",
    "# return index = return values indexing\n",
    "# return counts = return values frequency"
   ]
  },
  {
   "cell_type": "code",
   "execution_count": 52,
   "id": "4193a078-551c-415a-b324-cd1e6adb618b",
   "metadata": {},
   "outputs": [
    {
     "data": {
      "text/plain": [
       "array([1, 1, 1, 1, 1, 1, 2, 2, 2, 2, 3, 4, 4, 5, 6, 7, 7, 7, 7, 7, 7])"
      ]
     },
     "execution_count": 52,
     "metadata": {},
     "output_type": "execute_result"
    }
   ],
   "source": [
    "a=np.array([1,1,1,1,1,1,2,2,2,2,3,4,4,5,6,7,7,7,7,7,7])\n",
    "a"
   ]
  },
  {
   "cell_type": "code",
   "execution_count": 53,
   "id": "a51aabc6-a363-4c53-a10d-ecafc3abeae0",
   "metadata": {},
   "outputs": [
    {
     "data": {
      "text/plain": [
       "(array([1, 2, 3, 4, 5, 6, 7]),\n",
       " array([ 0,  6, 10, 11, 13, 14, 15], dtype=int64),\n",
       " array([6, 4, 1, 2, 1, 1, 6], dtype=int64))"
      ]
     },
     "execution_count": 53,
     "metadata": {},
     "output_type": "execute_result"
    }
   ],
   "source": [
    "np.unique(a,return_index = True ,return_counts=True)"
   ]
  },
  {
   "cell_type": "code",
   "execution_count": 54,
   "id": "21d94517-3c46-4cb9-bcc8-5f8fabee50dc",
   "metadata": {},
   "outputs": [
    {
     "data": {
      "text/plain": [
       "array([1.  , 1.25, 1.5 , 1.75, 2.  ])"
      ]
     },
     "execution_count": 54,
     "metadata": {},
     "output_type": "execute_result"
    }
   ],
   "source": [
    "# linspaces() : it will return some gap values from a given range\n",
    "a=np.linspace(1,2,5)\n",
    "a"
   ]
  },
  {
   "cell_type": "code",
   "execution_count": 55,
   "id": "5091f724-4ae6-463d-a489-7cd5b6c3ee50",
   "metadata": {},
   "outputs": [
    {
     "data": {
      "text/plain": [
       "array([1, 2, 3, 4, 5, 6, 7, 8, 9])"
      ]
     },
     "execution_count": 55,
     "metadata": {},
     "output_type": "execute_result"
    }
   ],
   "source": [
    "# Stacking\n",
    "# hstack : horizontal stacking\n",
    "a=np.array([1,2,3])\n",
    "b=np.array([4,5,6])\n",
    "c=np.array([7,8,9])\n",
    "np.hstack((a,b,c))"
   ]
  },
  {
   "cell_type": "code",
   "execution_count": 56,
   "id": "525e3c9c-8446-4585-a651-ffb81bd6089c",
   "metadata": {},
   "outputs": [
    {
     "data": {
      "text/plain": [
       "array([[1, 2, 3],\n",
       "       [4, 5, 6],\n",
       "       [7, 8, 9]])"
      ]
     },
     "execution_count": 56,
     "metadata": {},
     "output_type": "execute_result"
    }
   ],
   "source": [
    "# vstack : vertical stacking\n",
    "a=np.array([1,2,3])\n",
    "b=np.array([4,5,6])\n",
    "c=np.array([7,8,9])\n",
    "np.vstack((a,b,c))"
   ]
  }
 ],
 "metadata": {
  "kernelspec": {
   "display_name": "Python [conda env:base] *",
   "language": "python",
   "name": "conda-base-py"
  },
  "language_info": {
   "codemirror_mode": {
    "name": "ipython",
    "version": 3
   },
   "file_extension": ".py",
   "mimetype": "text/x-python",
   "name": "python",
   "nbconvert_exporter": "python",
   "pygments_lexer": "ipython3",
   "version": "3.12.7"
  }
 },
 "nbformat": 4,
 "nbformat_minor": 5
}
# Hey

